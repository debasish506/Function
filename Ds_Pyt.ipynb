{
  "nbformat": 4,
  "nbformat_minor": 0,
  "metadata": {
    "colab": {
      "provenance": []
    },
    "kernelspec": {
      "name": "python3",
      "display_name": "Python 3"
    },
    "language_info": {
      "name": "python"
    }
  },
  "cells": [
    {
      "cell_type": "code",
      "execution_count": null,
      "metadata": {
        "id": "rvs3uXb0YBg_"
      },
      "outputs": [],
      "source": []
    },
    {
      "cell_type": "markdown",
      "source": [
        "# what is the differ\n",
        "  - d\n",
        "\n",
        "  format is\n",
        "  Name:\n",
        "  Email\n",
        "  ASSIGMENT NAME\n",
        "  DRIVELINK\n",
        "  GITHUB\n"
      ],
      "metadata": {
        "id": "B_RldWX0YW43"
      }
    }
  ]
}